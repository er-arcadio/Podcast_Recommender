{
 "cells": [
  {
   "cell_type": "markdown",
   "metadata": {},
   "source": [
    "# Search engine and recommender\n",
    "\n",
    "Couldn't have done it without [this resource](https://www.youtube.com/watch?v=5n652PtXBdo) "
   ]
  },
  {
   "cell_type": "code",
   "execution_count": 6,
   "metadata": {},
   "outputs": [],
   "source": [
    "import pandas as pd\n",
    "import numpy as np\n",
    "import nltk\n",
    "import re\n",
    "import matplotlib.pyplot as plt\n",
    "import matplotlib.patches as mpatches\n",
    "from sklearn.manifold import TSNE\n",
    "from sklearn.metrics.pairwise import cosine_similarity\n",
    "from gensim.models import KeyedVectors"
   ]
  },
  {
   "cell_type": "markdown",
   "metadata": {},
   "source": [
    "## Importing and cleaning corpus"
   ]
  },
  {
   "cell_type": "code",
   "execution_count": 10,
   "metadata": {
    "scrolled": true
   },
   "outputs": [
    {
     "data": {
      "text/html": [
       "<div>\n",
       "<style scoped>\n",
       "    .dataframe tbody tr th:only-of-type {\n",
       "        vertical-align: middle;\n",
       "    }\n",
       "\n",
       "    .dataframe tbody tr th {\n",
       "        vertical-align: top;\n",
       "    }\n",
       "\n",
       "    .dataframe thead th {\n",
       "        text-align: right;\n",
       "    }\n",
       "</style>\n",
       "<table border=\"1\" class=\"dataframe\">\n",
       "  <thead>\n",
       "    <tr style=\"text-align: right;\">\n",
       "      <th></th>\n",
       "      <th>Title</th>\n",
       "      <th>Body</th>\n",
       "    </tr>\n",
       "  </thead>\n",
       "  <tbody>\n",
       "    <tr>\n",
       "      <th>0</th>\n",
       "      <td>New Beginnings</td>\n",
       "      <td>Joe Franklin? I'm ready. It's Ira Glass here. ...</td>\n",
       "    </tr>\n",
       "    <tr>\n",
       "      <th>1</th>\n",
       "      <td>Small Scale Sin</td>\n",
       "      <td>OK, three boys, aged 13, 15, and 16. All three...</td>\n",
       "    </tr>\n",
       "    <tr>\n",
       "      <th>2</th>\n",
       "      <td>Poultry Slam 1995</td>\n",
       "      <td>In Danielle's house, ever since she was a girl...</td>\n",
       "    </tr>\n",
       "    <tr>\n",
       "      <th>3</th>\n",
       "      <td>Vacations</td>\n",
       "      <td>The thing about Hawaii is that before you go a...</td>\n",
       "    </tr>\n",
       "    <tr>\n",
       "      <th>4</th>\n",
       "      <td>Anger and Forgiveness</td>\n",
       "      <td>Hi. It's Ira Glass recording this in 2006. An...</td>\n",
       "    </tr>\n",
       "  </tbody>\n",
       "</table>\n",
       "</div>"
      ],
      "text/plain": [
       "                   Title                                               Body\n",
       "0         New Beginnings  Joe Franklin? I'm ready. It's Ira Glass here. ...\n",
       "1        Small Scale Sin  OK, three boys, aged 13, 15, and 16. All three...\n",
       "2      Poultry Slam 1995  In Danielle's house, ever since she was a girl...\n",
       "3              Vacations  The thing about Hawaii is that before you go a...\n",
       "4  Anger and Forgiveness   Hi. It's Ira Glass recording this in 2006. An..."
      ]
     },
     "execution_count": 10,
     "metadata": {},
     "output_type": "execute_result"
    }
   ],
   "source": [
    "PODCASTS = 'uncleaned_podcasts.csv'\n",
    "df_podcasts = pd.read_csv(PODCASTS)\n",
    "df_podcasts.head()"
   ]
  },
  {
   "cell_type": "code",
   "execution_count": 27,
   "metadata": {},
   "outputs": [],
   "source": [
    "df_podcasts.dropna(inplace=True)"
   ]
  },
  {
   "cell_type": "code",
   "execution_count": 28,
   "metadata": {},
   "outputs": [],
   "source": [
    "SPECIAL_CHARS = '[^A-Za-z0-9 ]+'\n",
    "\n",
    "def preprocess(text):\n",
    "    tokenized = [word for sent in [re.sub(SPECIAL_CHARS, '', element).split(' ') for\n",
    "                                  element in nltk.sent_tokenize(text)] for word in sent]\n",
    "    \n",
    "    lowered = [word.lower() for word in tokenized]\n",
    "    return lowered"
   ]
  },
  {
   "cell_type": "code",
   "execution_count": 29,
   "metadata": {
    "scrolled": true
   },
   "outputs": [
    {
     "data": {
      "text/plain": [
       "['joe',\n",
       " 'franklin',\n",
       " 'im',\n",
       " 'ready',\n",
       " 'its',\n",
       " 'ira',\n",
       " 'glass',\n",
       " 'here',\n",
       " 'oh',\n",
       " 'youre']"
      ]
     },
     "execution_count": 29,
     "metadata": {},
     "output_type": "execute_result"
    }
   ],
   "source": [
    "podcast_texts = [preprocess(text) for text in df_podcasts['Body'].tolist()]\n",
    "\n",
    "podcast_texts[0][:10]"
   ]
  },
  {
   "cell_type": "code",
   "execution_count": 33,
   "metadata": {},
   "outputs": [],
   "source": [
    "cleaned_dct = dict(zip(df_podcasts['Title'], podcast_texts))"
   ]
  },
  {
   "cell_type": "markdown",
   "metadata": {},
   "source": [
    "## Using Gensim to create Word Embedding Space"
   ]
  },
  {
   "cell_type": "code",
   "execution_count": 94,
   "metadata": {},
   "outputs": [],
   "source": [
    "import pickle"
   ]
  },
  {
   "cell_type": "code",
   "execution_count": 34,
   "metadata": {},
   "outputs": [
    {
     "name": "stdout",
     "output_type": "stream",
     "text": [
      "[==================================================] 100.0% 1662.8/1662.8MB downloaded\n",
      "/Users/Manny/gensim-data/word2vec-google-news-300/word2vec-google-news-300.gz\n"
     ]
    }
   ],
   "source": [
    "# import gensim.downloader as api\n",
    "\n",
    "# path = api.load(\"word2vec-google-news-300\", return_path=True)\n",
    "# print(path)"
   ]
  },
  {
   "cell_type": "code",
   "execution_count": 36,
   "metadata": {},
   "outputs": [],
   "source": [
    "path = '/Users/Manny/gensim-data/word2vec-google-news-300/word2vec-google-news-300.gz'\n",
    "\n",
    "w2v = KeyedVectors.load_word2vec_format(path, binary=True)\n",
    "\n",
    "\n",
    "'''Pickles the the podcast vector'''\n",
    "with open('w2v.pkl', 'wb') as handle:\n",
    "    pickle.dump(w2v, handle, protocol=pickle.HIGHEST_PROTOCOL)"
   ]
  },
  {
   "cell_type": "code",
   "execution_count": 51,
   "metadata": {},
   "outputs": [],
   "source": [
    "#note: .items() returns dictionary as list of tuples where first element is key and second is value\n",
    "#returns same dictionary with a vector in place for each word or article\n",
    "\n",
    "def get_vectors(first_map, second_map):\n",
    "    first_vec = dict() \n",
    "    for key, value_list in first_map.items():\n",
    "        temp = list()\n",
    "        for element in value_list:\n",
    "            try:\n",
    "                temp.append(second_map[element])\n",
    "            except KeyError:\n",
    "                pass\n",
    "        \n",
    "        first_vec[key] = np.mean(temp, axis=0)\n",
    "        \n",
    "    return first_vec"
   ]
  },
  {
   "cell_type": "code",
   "execution_count": 53,
   "metadata": {
    "scrolled": true
   },
   "outputs": [],
   "source": [
    "podcast_vec = get_vectors(cleaned_dct, w2v)\n",
    "\n",
    "\n",
    "'''Pickles the the podcast vector'''\n",
    "with open('podcast_vec.pkl', 'wb') as handle:\n",
    "    pickle.dump(podcast_vec, handle, protocol=pickle.HIGHEST_PROTOCOL)"
   ]
  },
  {
   "cell_type": "code",
   "execution_count": 58,
   "metadata": {},
   "outputs": [],
   "source": [
    "def user_search(query, liked_podcasts=None):\n",
    "    user_vec = get_vectors({'search': query.split(' ')}, w2v)\n",
    "    \n",
    "    if liked_podcasts:\n",
    "        likes_dct = get_vectors({'likes': liked_podcasts}, podcast_vec)\n",
    "        user_vec['likes'] = likes_dct['likes']\n",
    "    \n",
    "    return user_vec"
   ]
  },
  {
   "cell_type": "markdown",
   "metadata": {},
   "source": [
    "## Cosine Similarity and a Recommender\n"
   ]
  },
  {
   "cell_type": "code",
   "execution_count": 76,
   "metadata": {},
   "outputs": [],
   "source": [
    "def get_most_similar(podcast_vec, user_vec, likes=[]):\n",
    "    sim = list()\n",
    "        \n",
    "    for key, vec in podcast_vec.items():\n",
    "        thisSim = cosine_similarity(vec.reshape(1, -1), user_vec.reshape(1, -1))\n",
    "        if key not in likes:\n",
    "            sim.append((key, thisSim[0][0]))\n",
    "    \n",
    "    return sorted(sim, key=lambda x: x[1], reverse=True)"
   ]
  },
  {
   "cell_type": "code",
   "execution_count": 114,
   "metadata": {},
   "outputs": [
    {
     "name": "stdout",
     "output_type": "stream",
     "text": [
      "[('Monogamy', 0.26783395), ('The Sanctity of Marriage', 0.24621944), ('Double Lives', 0.24034779), ('81 Words', 0.23817109), ('Godless America', 0.2378855)]\n",
      "\n",
      "Recommended for you...\n",
      "[('Frenemies', 0.99678993), ('Living the Dream', 0.9963706), ('Love', 0.9958979), ('The Missing Parents Bureau', 0.9958873), ('Give the People What They Want', 0.99571747)]\n"
     ]
    }
   ],
   "source": [
    "users_likes = ['What Is This Thing?', 'I Enjoy Being A Girl, Sort Of']\n",
    "user_vec = user_search(\"monogamy\", liked_podcasts=users_likes)\n",
    "\n",
    "print(get_most_similar(podcast_vec, user_vec['search'])[:5])\n",
    "print('\\nRecommended for you...')\n",
    "print(get_most_similar(podcast_vec, user_vec['likes'], likes=users_likes)[:5])"
   ]
  },
  {
   "cell_type": "markdown",
   "metadata": {},
   "source": [
    "## Visualizations"
   ]
  },
  {
   "cell_type": "code",
   "execution_count": 88,
   "metadata": {},
   "outputs": [],
   "source": [
    "def tsne_plot(mapping):\n",
    "    values = np.asarray(list(mapping.values()))\n",
    "    labels = list(mapping.keys())\n",
    "    \n",
    "    tsne = TSNE(n_components=2, random_state=1)\n",
    "    new_values = tsne.fit_transform(values)\n",
    "    \n",
    "    x, y = [], []\n",
    "    \n",
    "    for item in new_values:\n",
    "        x.append(item[0])\n",
    "        y.append(item[1])\n",
    "    \n",
    "    plt.figure(figsize=(20, 20))\n",
    "    for ix, _ in enumerate(x):\n",
    "        if labels[ix]=='search':\n",
    "            #color = 'green'\n",
    "            #alpha = 0.7\n",
    "            pass\n",
    "        elif labels[ix]=='likes':\n",
    "            color = 'blue'\n",
    "            alpha = 0.7\n",
    "        else: \n",
    "            color = 'red'\n",
    "            alpha = 0.3\n",
    "        plt.scatter(x[ix], y[ix], color=color, alpha=alpha)\n",
    "        \n",
    "    red_patch = mpatches.Patch(color='red', label='all_podcasts')\n",
    "    blue_patch = mpatches.Patch(color='blue', label='user_profile')\n",
    "    #green_patch = mpatches.Patch(color='green', label='user_search')\n",
    "    plt.legend(handles=[red_patch, blue_patch], fontsize=16)\n",
    "    plt.show"
   ]
  },
  {
   "cell_type": "code",
   "execution_count": 89,
   "metadata": {},
   "outputs": [
    {
     "data": {
      "image/png": "[encoded data removed]",
      "text/plain": [
       "<Figure size 1440x1440 with 1 Axes>"
      ]
     },
     "metadata": {
      "needs_background": "light"
     },
     "output_type": "display_data"
    }
   ],
   "source": [
    "tsne_plot({**podcast_vec, **user_vec})"
   ]
  },
  {
   "cell_type": "markdown",
   "metadata": {},
   "source": [
    "## Retrieving the IDs for each Porcast Title\n"
   ]
  },
  {
   "cell_type": "code",
   "execution_count": 108,
   "metadata": {},
   "outputs": [],
   "source": [
    "import time\n",
    "import requests\n",
    "import pandas as pd\n",
    "from bs4 import BeautifulSoup\n",
    "from IPython.display import clear_output\n",
    "\n",
    "def get_title_ids(files=[1, 715]):\n",
    "\n",
    "    titles = {'N/A': []}\n",
    "    malfunctions = []\n",
    "\n",
    "    # There are 715 podcasts \n",
    "    for pcast_n in range(files[0], files[1]+1):\n",
    "        # Scrape the html from the podcast website\n",
    "        link = f'https://www.thisamericanlife.org/{pcast_n}/transcript'\n",
    "        response = requests.get(link)\n",
    "        \n",
    "        if response.status_code == 200:\n",
    "            soup = BeautifulSoup(response.text, 'html5lib')\n",
    "            time.sleep(0.1)\n",
    "        \n",
    "            # filter the podcast title and dialogue as body\n",
    "            try:\n",
    "                title = soup.find('h1').text.split(': ')[1]\n",
    "            except AttributeError:\n",
    "                tilte = 'N/A'\n",
    "                \n",
    "            titles[title] = pcast_n\n",
    "            \n",
    "        else:\n",
    "            malfunctions.append(pcast_n)\n",
    "        \n",
    "        clear_output(wait=True)\n",
    "        print(f'Scraping {pcast_n} files...')\n",
    "        \n",
    "    if malfunctions:\n",
    "        print(f'The following {len(malfunctions)} files failed to upload...\\n', malfunctions )\n",
    "    else:\n",
    "        print(f'All {files[1]} files uploaded successfully.')\n",
    "        \n",
    "    return titles"
   ]
  },
  {
   "cell_type": "code",
   "execution_count": 109,
   "metadata": {},
   "outputs": [
    {
     "name": "stdout",
     "output_type": "stream",
     "text": [
      "Scraping 715 files...\n",
      "The following 3 files failed to upload...\n",
      " [460, 497, 686]\n"
     ]
    }
   ],
   "source": [
    "title_ids = get_title_ids()"
   ]
  },
  {
   "cell_type": "code",
   "execution_count": 118,
   "metadata": {},
   "outputs": [],
   "source": [
    "'''Pickles the the ids'''\n",
    "with open('title_ids.pkl', 'wb') as handle:\n",
    "    pickle.dump(title_ids, handle, protocol=pickle.HIGHEST_PROTOCOL)"
   ]
  },
  {
   "cell_type": "code",
   "execution_count": null,
   "metadata": {},
   "outputs": [],
   "source": []
  }
 ],
 "metadata": {
  "kernelspec": {
   "display_name": "Python 3",
   "language": "python",
   "name": "python3"
  },
  "language_info": {
   "codemirror_mode": {
    "name": "ipython",
    "version": 3
   },
   "file_extension": ".py",
   "mimetype": "text/x-python",
   "name": "python",
   "nbconvert_exporter": "python",
   "pygments_lexer": "ipython3",
   "version": "3.7.6"
  }
 },
 "nbformat": 4,
 "nbformat_minor": 4
}
